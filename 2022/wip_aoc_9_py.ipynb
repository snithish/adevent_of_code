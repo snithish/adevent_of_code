{
 "cells": [
  {
   "cell_type": "code",
   "execution_count": 3,
   "id": "86ce1f47-fa92-4dff-9159-7a03e08e4bcd",
   "metadata": {},
   "outputs": [],
   "source": [
    "from typing import List\n",
    "from dataclasses import dataclass\n",
    "\n",
    "\n",
    "@dataclass\n",
    "class Movement:\n",
    "    direction: str\n",
    "    distance: int\n",
    "\n",
    "\n",
    "movements: List[Movement] = []\n",
    "\n",
    "with open(\"./data/aoc_9.txt\") as f:\n",
    "    for line in f.readlines():\n",
    "        direction, distance = line.split(\" \")\n",
    "        movements.append(Movement(direction, int(distance)))"
   ]
  },
  {
   "cell_type": "code",
   "execution_count": 7,
   "outputs": [
    {
     "data": {
      "text/plain": "12565"
     },
     "execution_count": 7,
     "metadata": {},
     "output_type": "execute_result"
    }
   ],
   "source": [
    "grid_size = sum(map(lambda x: x.distance, movements)) + 1000\n",
    "grid_size"
   ],
   "metadata": {
    "collapsed": false
   }
  },
  {
   "cell_type": "code",
   "execution_count": 8,
   "outputs": [],
   "source": [
    "@dataclass\n",
    "class Position:\n",
    "    hx: int\n",
    "    hy: int\n",
    "    tx: int\n",
    "    ty: int\n",
    "\n",
    "    def same_row(self) -> bool:\n",
    "        return self.hy == self.ty\n",
    "\n",
    "    def same_col(self) -> bool:\n",
    "        return self.hx == self.tx\n",
    "\n",
    "    def same_place(self) -> bool:\n",
    "        return self.same_row() and self.same_col()"
   ],
   "metadata": {
    "collapsed": false
   }
  },
  {
   "cell_type": "code",
   "execution_count": 5,
   "id": "f61eb5b6",
   "metadata": {
    "collapsed": false,
    "jupyter": {
     "outputs_hidden": false
    }
   },
   "outputs": [
    {
     "data": {
      "text/plain": "2000"
     },
     "execution_count": 5,
     "metadata": {},
     "output_type": "execute_result"
    }
   ],
   "source": [
    "rope_length = 1\n",
    "position = Position(grid_size, grid_size, grid_size, grid_size)  # large start to avoid handling -ve index\n",
    "for movement in movements:\n",
    "    if position.same_row():\n",
    "        position = Position()"
   ]
  },
  {
   "cell_type": "code",
   "execution_count": null,
   "outputs": [],
   "source": [],
   "metadata": {
    "collapsed": false
   }
  }
 ],
 "metadata": {
  "kernelspec": {
   "display_name": "Python 3 (ipykernel)",
   "language": "python",
   "name": "python3"
  },
  "language_info": {
   "codemirror_mode": {
    "name": "ipython",
    "version": 3
   },
   "file_extension": ".py",
   "mimetype": "text/x-python",
   "name": "python",
   "nbconvert_exporter": "python",
   "pygments_lexer": "ipython3",
   "version": "3.10.8"
  },
  "vscode": {
   "interpreter": {
    "hash": "4b4c63cb2d918b6f68ee143ad2028ff4f90f6ba246f1c2fb2516c69c9e93e5d2"
   }
  }
 },
 "nbformat": 4,
 "nbformat_minor": 5
}

{
 "cells": [
  {
   "cell_type": "code",
   "execution_count": 1,
   "id": "86ce1f47-fa92-4dff-9159-7a03e08e4bcd",
   "metadata": {},
   "outputs": [],
   "source": [
    "from pyspark import SparkConf, SparkContext\n",
    "from pyspark.sql import SparkSession\n",
    "\n",
    "from pyspark.sql import functions as F"
   ]
  },
  {
   "cell_type": "code",
   "execution_count": 2,
   "id": "7f0682ef-5906-47eb-ace9-79ada1fc7eac",
   "metadata": {},
   "outputs": [
    {
     "name": "stderr",
     "output_type": "stream",
     "text": [
      "Using Spark's default log4j profile: org/apache/spark/log4j-defaults.properties\n",
      "Setting default log level to \"WARN\".\n",
      "To adjust logging level use sc.setLogLevel(newLevel). For SparkR, use setLogLevel(newLevel).\n",
      "22/12/01 18:50:15 WARN NativeCodeLoader: Unable to load native-hadoop library for your platform... using builtin-java classes where applicable\n"
     ]
    }
   ],
   "source": [
    "spark = SparkSession.builder.master(\"local[1]\").appName(\"AoC_2022_1[2]\").getOrCreate()"
   ]
  },
  {
   "cell_type": "code",
   "execution_count": 3,
   "id": "28cb8daa-2f7a-414f-a1c5-71d88f91fa9a",
   "metadata": {},
   "outputs": [],
   "source": [
    "whole_file_df = spark.read.option(\"lineSep\", \"\\n\\n\").text(\"./data/aoc_1.txt\")"
   ]
  },
  {
   "cell_type": "code",
   "execution_count": 6,
   "id": "18005595-9ad8-4883-9cb6-57be9cd22dd8",
   "metadata": {},
   "outputs": [
    {
     "data": {
      "text/plain": [
       "Row(total_calories=71124)"
      ]
     },
     "execution_count": 6,
     "metadata": {},
     "output_type": "execute_result"
    }
   ],
   "source": [
    "split_into_values = F.split(\"value\", \"\\n\")\n",
    "int_values = F.transform(split_into_values, lambda x: x.cast(\"int\"))\n",
    "sum_values = F.aggregate(int_values, F.lit(0), lambda acc, x, : acc + x).alias(\"total_calories\") \n",
    "\n",
    "order_by_most_calories = whole_file_df.select(sum_values).orderBy(F.desc(\"total_calories\"))\n",
    "\n",
    "order_by_most_calories.head()"
   ]
  },
  {
   "cell_type": "code",
   "execution_count": 7,
   "id": "06b1a3b1-fcfc-4d17-89e9-68d7d9e71571",
   "metadata": {},
   "outputs": [
    {
     "data": {
      "text/plain": [
       "Row(sum(total_calories)=204639)"
      ]
     },
     "execution_count": 7,
     "metadata": {},
     "output_type": "execute_result"
    }
   ],
   "source": [
    "top_3_calories = order_by_most_calories.limit(3)\n",
    "top_3_calories.select(F.sum(\"total_calories\")).head()"
   ]
  }
 ],
 "metadata": {
  "kernelspec": {
   "display_name": "Python 3 (ipykernel)",
   "language": "python",
   "name": "python3"
  },
  "language_info": {
   "codemirror_mode": {
    "name": "ipython",
    "version": 3
   },
   "file_extension": ".py",
   "mimetype": "text/x-python",
   "name": "python",
   "nbconvert_exporter": "python",
   "pygments_lexer": "ipython3",
   "version": "3.10.8"
  }
 },
 "nbformat": 4,
 "nbformat_minor": 5
}

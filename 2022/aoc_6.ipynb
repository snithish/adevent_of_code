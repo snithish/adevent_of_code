{
 "cells": [
  {
   "cell_type": "code",
   "execution_count": 2,
   "id": "86ce1f47-fa92-4dff-9159-7a03e08e4bcd",
   "metadata": {},
   "outputs": [],
   "source": [
    "from pyspark import SparkConf, SparkContext\n",
    "from pyspark.sql import SparkSession\n",
    "\n",
    "from pyspark.sql import functions as F\n",
    "from pyspark.sql import Column"
   ]
  },
  {
   "cell_type": "code",
   "execution_count": 3,
   "id": "7f0682ef-5906-47eb-ace9-79ada1fc7eac",
   "metadata": {},
   "outputs": [
    {
     "name": "stderr",
     "output_type": "stream",
     "text": [
      "Using Spark's default log4j profile: org/apache/spark/log4j-defaults.properties\n",
      "Setting default log level to \"WARN\".\n",
      "To adjust logging level use sc.setLogLevel(newLevel). For SparkR, use setLogLevel(newLevel).\n",
      "22/12/06 19:09:57 WARN NativeCodeLoader: Unable to load native-hadoop library for your platform... using builtin-java classes where applicable\n",
      "22/12/06 19:09:58 WARN Utils: Service 'SparkUI' could not bind on port 4040. Attempting port 4041.\n"
     ]
    }
   ],
   "source": [
    "spark = SparkSession.builder.master(\"local[2]\").appName(\"AoC_2022_6[2]\").getOrCreate()"
   ]
  },
  {
   "cell_type": "code",
   "execution_count": 67,
   "id": "a5abcc04-b5dc-446c-a1d7-db48641d3516",
   "metadata": {},
   "outputs": [],
   "source": [
    "inputs = spark.read.schema(\"signals string\").csv(\"./data/aoc_6.txt\")\n",
    "\n",
    "# inputs = spark.createDataFrame([(\"abcd\", ), (\"bvwbjplbgvbhsrlpgdmjqwftvncz\", ), (\"mjqjpqmgbljsphdztnvjfqwrcgsmlb\", )], (\"signals\", ))"
   ]
  },
  {
   "cell_type": "code",
   "execution_count": 68,
   "id": "a2928849-e78f-4394-8c4f-c31c7a55e567",
   "metadata": {},
   "outputs": [],
   "source": [
    "signals = F.col(\"signals\")\n",
    "marker_len = 14 # 14 for part B, 4 for part A\n",
    "marker_length = F.lit(marker_len)\n",
    "\n",
    "\n",
    "def distinct_check(val: Column) -> Column:\n",
    "    splits = F.split(val, \"\")\n",
    "    return F.size(splits) == F.size(F.array_distinct(splits))\n",
    "\n",
    "def construct_accumulator(found: bool, position: int) -> Column:\n",
    "    return F.struct(F.lit(found).alias(\"found\"), F.lit(position).cast(\"int\").alias(\"position\"))\n",
    "\n",
    "def compute_merge(acc: Column, x: Column) -> Column:\n",
    "    current_window_signal = signals.substr(x, marker_length)\n",
    "    is_distinct = distinct_check(current_window_signal)\n",
    "    return F.when(is_distinct, construct_accumulator(True, (x + (marker_length - 1)))).otherwise(acc)\n",
    "    # return current_window_signal\n",
    "\n",
    "def merge(acc: Column, x: int) -> Column:\n",
    "    return F.when(acc.found, acc).otherwise(compute_merge(acc, x)) # naive short circuit\n",
    "\n",
    "acc_init = construct_accumulator(False, None)\n",
    "\n",
    "signal_result = F.aggregate(F.sequence(F.lit(1), F.length(\"signals\") - (marker_len- 1)), acc_init, merge)"
   ]
  },
  {
   "cell_type": "code",
   "execution_count": 69,
   "id": "771754fa-1f15-4c06-8f36-447211b04e86",
   "metadata": {},
   "outputs": [
    {
     "name": "stdout",
     "output_type": "stream",
     "text": [
      "+------+\n",
      "|result|\n",
      "+------+\n",
      "|2334  |\n",
      "+------+\n",
      "\n"
     ]
    }
   ],
   "source": [
    "inputs.select((signal_result.position).alias(\"result\")).show(truncate=False)"
   ]
  },
  {
   "cell_type": "code",
   "execution_count": null,
   "id": "41f28f8d-6a68-485c-bbc1-bc3db689d6fb",
   "metadata": {},
   "outputs": [],
   "source": []
  }
 ],
 "metadata": {
  "kernelspec": {
   "display_name": "Python 3 (ipykernel)",
   "language": "python",
   "name": "python3"
  },
  "language_info": {
   "codemirror_mode": {
    "name": "ipython",
    "version": 3
   },
   "file_extension": ".py",
   "mimetype": "text/x-python",
   "name": "python",
   "nbconvert_exporter": "python",
   "pygments_lexer": "ipython3",
   "version": "3.10.8"
  },
  "vscode": {
   "interpreter": {
    "hash": "4b4c63cb2d918b6f68ee143ad2028ff4f90f6ba246f1c2fb2516c69c9e93e5d2"
   }
  }
 },
 "nbformat": 4,
 "nbformat_minor": 5
}

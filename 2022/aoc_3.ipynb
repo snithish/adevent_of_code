{
 "cells": [
  {
   "cell_type": "code",
   "execution_count": null,
   "id": "86ce1f47-fa92-4dff-9159-7a03e08e4bcd",
   "metadata": {},
   "outputs": [],
   "source": [
    "from pyspark import SparkConf, SparkContext\n",
    "from pyspark.sql import SparkSession\n",
    "\n",
    "from pyspark.sql import functions as F\n",
    "from pyspark.sql import Column"
   ]
  },
  {
   "cell_type": "code",
   "execution_count": null,
   "id": "7f0682ef-5906-47eb-ace9-79ada1fc7eac",
   "metadata": {},
   "outputs": [],
   "source": [
    "spark = SparkSession.builder.master(\"local[1]\").appName(\"AoC_2022_3[2]\").getOrCreate()"
   ]
  },
  {
   "cell_type": "code",
   "execution_count": null,
   "id": "28cb8daa-2f7a-414f-a1c5-71d88f91fa9a",
   "metadata": {},
   "outputs": [],
   "source": [
    "inputs = spark.read.option(\"delimiter\", \" \").schema(\"items string\").csv(\"./data/aoc_3.txt\")"
   ]
  },
  {
   "cell_type": "code",
   "execution_count": null,
   "id": "e5f7a374-4e49-4e64-8806-8b590955fabc",
   "metadata": {},
   "outputs": [],
   "source": [
    "items = F.col(\"items\")"
   ]
  },
  {
   "cell_type": "code",
   "execution_count": null,
   "id": "8961dfa3-b1d6-445d-b2a5-0fc1f9354d06",
   "metadata": {},
   "outputs": [],
   "source": [
    "items_split = F.split(F.trim(items), \"\")\n",
    "\n",
    "slices = lambda start, end: F.aggregate(F.sequence(start, end - 1), \n",
    "                                        F.lit(None).cast(\"string\"),\n",
    "                                        lambda acc, x: F.when(acc.isNotNull(), F.concat(acc, items_split[x])).otherwise(items_split[x]),\n",
    "                                        lambda acc: F.split(F.trim(acc), \"\"))\n",
    "\n",
    "\n",
    "items_length = F.length(items)\n",
    "mid_point = F.floor(items_length / 2)\n",
    "\n",
    "first_compartment = slices(F.lit(0), mid_point)\n",
    "second_compartment = slices(mid_point, items_length)\n",
    "\n",
    "common_items = F.array_intersect(first_compartment, second_compartment).alias(\"common_items\")\n",
    "\n",
    "\n",
    "def _sum_priority(items_array: Column) -> Column:\n",
    "    priority = F.transform(items_array, lambda x: F.when(x.rlike(\"[a-z]\"), F.ascii(x) - 96)\n",
    "                                                .when(x.rlike(\"[A-Z]\"), F.ascii(x) - 64 + 26)  \n",
    "                                                .otherwise(F.lit(0)))\n",
    "    return F.aggregate(priority, F.lit(0), lambda acc, x: acc + x)\n",
    "    \n",
    "\n",
    "inputs.select(F.sum(_sum_priority(common_items)).alias(\"result\")).head()"
   ]
  },
  {
   "cell_type": "code",
   "execution_count": null,
   "id": "e323a899-e52d-4189-b0af-8fe2b67cb98b",
   "metadata": {},
   "outputs": [],
   "source": [
    "input_whole = spark.read.text(\"./data/aoc_3.txt\", wholetext=True).withColumn(\"filename\", F.input_file_name())\n",
    "\n",
    "inputs = input_whole.select(F.posexplode(F.split(\"value\", \"\\n\")).alias(\"linenumber\", \"items\"), \"filename\")"
   ]
  },
  {
   "cell_type": "code",
   "execution_count": null,
   "id": "570c27a4-5e30-4c67-a960-24f146c86a64",
   "metadata": {},
   "outputs": [],
   "source": [
    "group_id = F.floor(F.col(\"linenumber\") / 3)\n",
    "group_items = F.col(\"group_items\")\n",
    "\n",
    "group_common = F.aggregate(group_items, group_items[0], lambda acc, x: F.array_intersect(acc, x))\n",
    "\n",
    "(inputs.groupby(\"filename\", group_id)\n",
    "       .agg(F.collect_list(items_split).alias(\"group_items\"))\n",
    "       .select(F.sum(_sum_priority(group_common)).alias(\"3b Result\")).head())"
   ]
  },
  {
   "cell_type": "code",
   "execution_count": null,
   "id": "51b64f9c-3dc3-419d-9a50-c4ea55cb5a93",
   "metadata": {},
   "outputs": [],
   "source": []
  }
 ],
 "metadata": {
  "kernelspec": {
   "display_name": "Python 3 (ipykernel)",
   "language": "python",
   "name": "python3"
  },
  "language_info": {
   "codemirror_mode": {
    "name": "ipython",
    "version": 3
   },
   "file_extension": ".py",
   "mimetype": "text/x-python",
   "name": "python",
   "nbconvert_exporter": "python",
   "pygments_lexer": "ipython3",
   "version": "3.10.8"
  }
 },
 "nbformat": 4,
 "nbformat_minor": 5
}

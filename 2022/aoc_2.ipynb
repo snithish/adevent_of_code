{
 "cells": [
  {
   "cell_type": "code",
   "execution_count": null,
   "id": "86ce1f47-fa92-4dff-9159-7a03e08e4bcd",
   "metadata": {},
   "outputs": [],
   "source": [
    "from pyspark import SparkConf, SparkContext\n",
    "from pyspark.sql import SparkSession\n",
    "\n",
    "from pyspark.sql import functions as F"
   ]
  },
  {
   "cell_type": "code",
   "execution_count": null,
   "id": "7f0682ef-5906-47eb-ace9-79ada1fc7eac",
   "metadata": {},
   "outputs": [],
   "source": [
    "spark = SparkSession.builder.master(\"local[1]\").appName(\"AoC_2022_2[2]\").getOrCreate()"
   ]
  },
  {
   "cell_type": "code",
   "execution_count": null,
   "id": "28cb8daa-2f7a-414f-a1c5-71d88f91fa9a",
   "metadata": {},
   "outputs": [],
   "source": [
    "strategy_df = spark.read.option(\"delimiter\", \" \").schema(\"opponent string, our string\").csv(\"./data/aoc_2.txt\")"
   ]
  },
  {
   "cell_type": "code",
   "execution_count": null,
   "id": "8ac6c93a-9288-4898-9b56-9b8bebe6e37f",
   "metadata": {},
   "outputs": [],
   "source": [
    "from itertools import chain\n",
    "\n",
    "opponent_col = F.col(\"opponent\")\n",
    "our_col = F.col(\"our\")\n",
    "\n",
    "hand_shape_score = {\"A\": 1, \"B\": 2, \"C\": 3, \"X\": 1, \"Y\": 2, \"Z\": 3}\n",
    "hand_shape_score_expr = F.create_map([F.lit(x) for x in chain(*hand_shape_score.items())])\n",
    "\n",
    "strategy_df_remapped = strategy_df.withColumn(\"opponent\", hand_shape_score_expr[opponent_col]).withColumn(\"our\", hand_shape_score_expr[our_col])\n",
    "strategy_df_remapped"
   ]
  },
  {
   "cell_type": "code",
   "execution_count": null,
   "id": "18005595-9ad8-4883-9cb6-57be9cd22dd8",
   "metadata": {},
   "outputs": [],
   "source": [
    "winning_expr = ((opponent_col % 3) + 1) == our_col\n",
    "\n",
    "draw_expr = (opponent_col == our_col)\n",
    "\n",
    "win_score = F.when(winning_expr, F.lit(6)).when(draw_expr, F.lit(3)).otherwise(F.lit(0))\n",
    "round_score = our_col + win_score\n",
    "\n",
    "strategy_df_remapped.select(F.sum(round_score).alias(\"result\")).head()"
   ]
  },
  {
   "cell_type": "code",
   "execution_count": null,
   "id": "91838c98-d448-4bcf-ac80-3230042e858e",
   "metadata": {},
   "outputs": [],
   "source": [
    "result_col = F.col(\"result\")\n",
    "\n",
    "strategy_df_b = strategy_df.withColumnRenamed(\"our\", \"result\")\n",
    "\n",
    "shape_to_draw = opponent_col\n",
    "\n",
    "shape_to_win = (opponent_col % 3) + 1\n",
    "\n",
    "shape_to_lose = ((opponent_col + 1)) % 3 + 1\n",
    "\n",
    "\n",
    "our_hand_expr = (F.when(result_col == F.lit(\"X\"), shape_to_lose)\n",
    "                  .when(result_col == F.lit(\"Y\"), shape_to_draw)\n",
    "                  .when(result_col == F.lit(\"Z\"), shape_to_win))\n",
    "\n",
    "(strategy_df_b.withColumn(\"opponent\", hand_shape_score_expr[opponent_col])\n",
    "             .withColumn(\"our\", our_hand_expr)\n",
    "             .select(F.sum(round_score).alias(\"result\")).head())"
   ]
  },
  {
   "cell_type": "code",
   "execution_count": null,
   "id": "e5f7a374-4e49-4e64-8806-8b590955fabc",
   "metadata": {},
   "outputs": [],
   "source": []
  }
 ],
 "metadata": {
  "kernelspec": {
   "display_name": "Python 3 (ipykernel)",
   "language": "python",
   "name": "python3"
  },
  "language_info": {
   "codemirror_mode": {
    "name": "ipython",
    "version": 3
   },
   "file_extension": ".py",
   "mimetype": "text/x-python",
   "name": "python",
   "nbconvert_exporter": "python",
   "pygments_lexer": "ipython3",
   "version": "3.10.8"
  }
 },
 "nbformat": 4,
 "nbformat_minor": 5
}

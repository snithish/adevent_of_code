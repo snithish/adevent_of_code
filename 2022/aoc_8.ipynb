{
 "cells": [
  {
   "cell_type": "code",
   "execution_count": null,
   "id": "86ce1f47-fa92-4dff-9159-7a03e08e4bcd",
   "metadata": {},
   "outputs": [],
   "source": [
    "from pyspark import SparkConf, SparkContext\n",
    "from pyspark.sql import SparkSession\n",
    "\n",
    "from pyspark.sql import functions as F\n",
    "from pyspark.sql.functions import col as c, lit as l\n",
    "from pyspark.sql import Column\n",
    "from typing import List\n",
    "from pyspark.sql import Window as W\n",
    "from functools import reduce\n",
    "import operator"
   ]
  },
  {
   "cell_type": "code",
   "execution_count": null,
   "id": "7f0682ef-5906-47eb-ace9-79ada1fc7eac",
   "metadata": {},
   "outputs": [],
   "source": [
    "spark = SparkSession.builder.master(\"local[2]\").appName(\"AoC_2022_8[2]\").getOrCreate()"
   ]
  },
  {
   "cell_type": "code",
   "execution_count": null,
   "id": "a5abcc04-b5dc-446c-a1d7-db48641d3516",
   "metadata": {},
   "outputs": [],
   "source": [
    "inputs_raw = (spark.read.text(\"./data/aoc_8.txt\", wholetext=True)\n",
    "                   .withColumn(\"filename\", F.input_file_name())\n",
    "                   .withColumn(\"value\", F.split(\"value\", \"\\n\"))\n",
    "                   .select(F.posexplode(\"value\").alias(\"rn\", \"value\"), \"filename\"))\n",
    "\n",
    "trees_arr = inputs_raw.withColumn(\"trees\", F.split(\"value\", \"\")).select(\"rn\", \"trees\", \"filename\")\n",
    "\n",
    "nr_cols = trees_arr.select(F.size(\"trees\").alias(\"size\")).head().size - 1\n",
    "\n",
    "row_selection_expr = [(F.col(\"trees\")[r]).cast(\"int\").alias(f\"col_{r}\") for r in range(0, nr_cols)]\n",
    "inputs = trees_arr.select(\"rn\", *row_selection_expr, \"filename\")"
   ]
  },
  {
   "cell_type": "code",
   "execution_count": null,
   "id": "0301c8bd-75cd-4f91-9b68-a543226e9a28",
   "metadata": {},
   "outputs": [],
   "source": [
    "ws = W.partitionBy(\"filename\").orderBy(\"rn\")\n",
    "up = ws.rowsBetween(W.unboundedPreceding, -1)\n",
    "down = ws.rowsBetween(1, W.unboundedFollowing)\n",
    "ws_complete_frame = ws.rowsBetween(W.unboundedPreceding, W.unboundedFollowing)\n",
    "\n",
    "nr_colnames = [f\"col_{r}\" for r in range(0, nr_cols)]"
   ]
  },
  {
   "cell_type": "code",
   "execution_count": null,
   "id": "00a56ff9-8c14-46fa-87f4-3394f465e766",
   "metadata": {},
   "outputs": [],
   "source": [
    "def traversal_compute(idx: int) -> Column:\n",
    "    c = F.col(f\"col_{idx}\")\n",
    "    up_max = F.max(c).over(up)\n",
    "    down_max = F.max(c).over(down)\n",
    "    left_max = F.greatest(*nr_colnames[0:idx], F.lit(-1))\n",
    "    right_max = F.greatest(*nr_colnames[idx+1:], F.lit(-1))\n",
    "    is_visible = (c > up_max) | (c > down_max) | (c > left_max) | (c > right_max)\n",
    "    return F.when(is_visible, F.lit(1)).otherwise(F.lit(0))\n",
    "\n",
    "def visibility(idx: int) -> Column:\n",
    "    if idx == 0 or idx == (nr_cols - 1):\n",
    "        return F.lit(1)\n",
    "    is_min_rn = F.min(\"rn\").over(ws_complete_frame) == F.col(\"rn\")\n",
    "    is_max_rn = F.max(\"rn\").over(ws_complete_frame) == F.col(\"rn\")\n",
    "    return F.when((is_min_rn) | (is_max_rn), F.lit(1)).otherwise(traversal_compute(idx))"
   ]
  },
  {
   "cell_type": "code",
   "execution_count": null,
   "id": "bebe4948-ea60-4029-a922-faffcf95ef94",
   "metadata": {},
   "outputs": [],
   "source": [
    "result_selection_expr = [(visibility(r)).alias(f\"col_{r}\") for r in range(0, nr_cols)]\n",
    "\n",
    "row_summation = reduce(operator.__add__, result_selection_expr)"
   ]
  },
  {
   "cell_type": "code",
   "execution_count": null,
   "id": "78fefda4-0fcd-4896-9083-0b9f3167a75f",
   "metadata": {},
   "outputs": [],
   "source": [
    "inputs.select(\"filename\", row_summation.alias(\"row_counts\")).groupBy(\"filename\").agg(F.sum(\"row_counts\").alias(\"result\")).collect()"
   ]
  },
  {
   "cell_type": "code",
   "execution_count": null,
   "id": "4d7a9892-d09c-4e9d-a6c6-a8bfaa8744f9",
   "metadata": {},
   "outputs": [],
   "source": [
    "ws = W.partitionBy(\"filename\").orderBy(\"rn\")\n",
    "up = ws.rowsBetween(W.unboundedPreceding, -1)\n",
    "down = ws.rowsBetween(1, W.unboundedFollowing)\n",
    "ws_complete_frame = ws.rowsBetween(W.unboundedPreceding, W.unboundedFollowing)\n",
    "\n",
    "nr_colnames = [f\"col_{r}\" for r in range(0, nr_cols)]\n",
    "\n",
    "def construct_accum(stop: Column, distance: Column) -> Column:\n",
    "    return F.struct(l(stop).cast(\"boolean\").alias(\"stop\"), l(distance).cast(\"int\").alias(\"distance\"))\n",
    "\n",
    "def viewing_distance(dc: Column, arr: Column) -> Column:\n",
    "    def merge(acc: Column, x: Column) -> Column:\n",
    "        stopped = (acc.stop == l(True))\n",
    "        will_stop_increment = (~stopped) & (x >= dc)\n",
    "        increment = (~stopped) & (x < dc)\n",
    "        return (F.when(will_stop_increment, construct_accum(l(True), acc.distance + 1))\n",
    "          .when(increment, construct_accum(acc.stop, acc.distance + 1))\n",
    "          .otherwise(construct_accum(l(True), acc.distance)))\n",
    "    init_acc = construct_accum(l(False), l(0))\n",
    "    return F.aggregate(arr, init_acc, merge, lambda acc: acc.distance)\n",
    "\n",
    "def traversal_score(idx: int) -> Column:\n",
    "    c = F.col(f\"col_{idx}\")\n",
    "    up_score = viewing_distance(c, F.reverse(F.collect_list(c).over(up))).alias(\"up_score\") # start looking from closest to the tree\n",
    "    down_score = viewing_distance(c, F.collect_list(c).over(down)).alias(\"down_score\")\n",
    "    left_score = viewing_distance(c, F.array(*(nr_colnames[0:idx][::-1]))).alias(\"left_score\") # start looking from closest to the tree\n",
    "    right_score = viewing_distance(c, F.array(*nr_colnames[idx+1:])).alias(\"right_score\")\n",
    "    return up_score * down_score * left_score * right_score\n",
    "    # return [up_score, down_score, left_score, right_score]\n",
    "\n",
    "def score(idx: int) -> Column:\n",
    "    if idx == 0 or idx == (nr_cols - 1):\n",
    "        return F.lit(0)\n",
    "    is_min_rn = F.min(\"rn\").over(ws_complete_frame) == F.col(\"rn\")\n",
    "    is_max_rn = F.max(\"rn\").over(ws_complete_frame) == F.col(\"rn\")\n",
    "    return F.when((is_min_rn) | (is_max_rn), F.lit(0)).otherwise(traversal_score(idx))"
   ]
  },
  {
   "cell_type": "code",
   "execution_count": null,
   "id": "4e58d2fc-cb5f-4a76-a0c1-423cab38e2d2",
   "metadata": {},
   "outputs": [],
   "source": [
    "score_selection_expr = [(score(r)).alias(f\"col_{r}\") for r in range(0, nr_cols)]\n",
    "\n",
    "score_max = F.greatest(*nr_colnames).alias(\"row_max\")"
   ]
  },
  {
   "cell_type": "code",
   "execution_count": null,
   "id": "9f0ef094-5206-4475-b2cc-f07b47436b6d",
   "metadata": {},
   "outputs": [],
   "source": [
    "inputs.select(*score_selection_expr, \"filename\").groupBy(\"filename\").agg(F.max(score_max).alias(\"result\")).collect()"
   ]
  },
  {
   "cell_type": "code",
   "execution_count": null,
   "id": "af532ee8-935a-4d89-a236-37a07c10f771",
   "metadata": {},
   "outputs": [],
   "source": []
  }
 ],
 "metadata": {
  "kernelspec": {
   "display_name": "Python 3 (ipykernel)",
   "language": "python",
   "name": "python3"
  },
  "language_info": {
   "codemirror_mode": {
    "name": "ipython",
    "version": 3
   },
   "file_extension": ".py",
   "mimetype": "text/x-python",
   "name": "python",
   "nbconvert_exporter": "python",
   "pygments_lexer": "ipython3",
   "version": "3.10.8"
  },
  "vscode": {
   "interpreter": {
    "hash": "4b4c63cb2d918b6f68ee143ad2028ff4f90f6ba246f1c2fb2516c69c9e93e5d2"
   }
  }
 },
 "nbformat": 4,
 "nbformat_minor": 5
}

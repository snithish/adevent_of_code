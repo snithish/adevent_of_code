{
 "cells": [
  {
   "cell_type": "code",
   "execution_count": 1,
   "id": "86ce1f47-fa92-4dff-9159-7a03e08e4bcd",
   "metadata": {},
   "outputs": [],
   "source": [
    "from pyspark import SparkConf, SparkContext\n",
    "from pyspark.sql import SparkSession\n",
    "\n",
    "from pyspark.sql import functions as F\n",
    "from pyspark.sql import Column"
   ]
  },
  {
   "cell_type": "code",
   "execution_count": null,
   "id": "7f0682ef-5906-47eb-ace9-79ada1fc7eac",
   "metadata": {},
   "outputs": [],
   "source": [
    "spark = SparkSession.builder.master(\"local[2]\").appName(\"AoC_2022_4[2]\").getOrCreate()"
   ]
  },
  {
   "cell_type": "code",
   "execution_count": null,
   "id": "28cb8daa-2f7a-414f-a1c5-71d88f91fa9a",
   "metadata": {},
   "outputs": [],
   "source": [
    "inputs = spark.read.option(\"delimiter\", \",\").schema(\"first_pair string, second_pair string\").csv(\"./data/aoc_4.txt\")\n",
    "\n",
    "ranges = [(F.split(f\"{pos}_pair\", \"-\")[idx]).cast(\"int\").alias(f\"{pos}_{idx + 1}\") for pos in [\"first\", \"second\"] for idx in [0, 1]]\n",
    "inputs = inputs.select(ranges)"
   ]
  },
  {
   "cell_type": "code",
   "execution_count": null,
   "id": "e5f7a374-4e49-4e64-8806-8b590955fabc",
   "metadata": {},
   "outputs": [],
   "source": [
    "fully_contains = lambda x, y: ((F.col(f\"{y}_1\").between(F.col(f\"{x}_1\"), F.col(f\"{x}_2\"))) & \n",
    "                         (F.col(f\"{y}_2\").between(F.col(f\"{x}_1\"), F.col(f\"{x}_2\"))))\n",
    "perfectly_overlapping = fully_contains(\"first\", \"second\") | fully_contains(\"second\", \"first\")"
   ]
  },
  {
   "cell_type": "code",
   "execution_count": null,
   "id": "11cc03a0-e5e2-4adc-b0a7-6c64cbcd63c1",
   "metadata": {},
   "outputs": [],
   "source": [
    "inputs.select(F.sum(F.when(perfectly_overlapping, F.lit(1)).otherwise(0)).alias(\"result\")).head()"
   ]
  },
  {
   "cell_type": "code",
   "execution_count": null,
   "id": "c26558a6-4b26-49ea-b00c-afb044908337",
   "metadata": {},
   "outputs": [],
   "source": [
    "any_contains = lambda x, y: ((F.col(f\"{y}_1\").between(F.col(f\"{x}_1\"), F.col(f\"{x}_2\"))) |\n",
    "                         (F.col(f\"{y}_2\").between(F.col(f\"{x}_1\"), F.col(f\"{x}_2\"))))\n",
    "any_overlapping = any_contains(\"first\", \"second\") | any_contains(\"second\", \"first\")"
   ]
  },
  {
   "cell_type": "code",
   "execution_count": null,
   "id": "79b0292a-9728-4ef9-b870-1c962dda5ede",
   "metadata": {},
   "outputs": [],
   "source": [
    "inputs.select(F.sum(F.when(any_overlapping, F.lit(1)).otherwise(0)).alias(\"result\")).head()"
   ]
  }
 ],
 "metadata": {
  "kernelspec": {
   "display_name": "Python 3 (ipykernel)",
   "language": "python",
   "name": "python3"
  },
  "language_info": {
   "codemirror_mode": {
    "name": "ipython",
    "version": 3
   },
   "file_extension": ".py",
   "mimetype": "text/x-python",
   "name": "python",
   "nbconvert_exporter": "python",
   "pygments_lexer": "ipython3",
   "version": "3.8.12"
  },
  "vscode": {
   "interpreter": {
    "hash": "4b4c63cb2d918b6f68ee143ad2028ff4f90f6ba246f1c2fb2516c69c9e93e5d2"
   }
  }
 },
 "nbformat": 4,
 "nbformat_minor": 5
}
